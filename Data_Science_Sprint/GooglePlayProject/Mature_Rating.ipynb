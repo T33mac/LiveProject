{
 "cells": [
  {
   "cell_type": "code",
   "execution_count": 1,
   "metadata": {},
   "outputs": [],
   "source": [
    "import pandas as pd\n",
    "import matplotlib.pyplot as plt\n",
    "import numpy as np"
   ]
  },
  {
   "cell_type": "markdown",
   "metadata": {},
   "source": [
    "### Making a chart"
   ]
  },
  {
   "cell_type": "code",
   "execution_count": 2,
   "metadata": {},
   "outputs": [
    {
     "data": {
      "text/html": [
       "<div>\n",
       "<style scoped>\n",
       "    .dataframe tbody tr th:only-of-type {\n",
       "        vertical-align: middle;\n",
       "    }\n",
       "\n",
       "    .dataframe tbody tr th {\n",
       "        vertical-align: top;\n",
       "    }\n",
       "\n",
       "    .dataframe thead th {\n",
       "        text-align: right;\n",
       "    }\n",
       "</style>\n",
       "<table border=\"1\" class=\"dataframe\">\n",
       "  <thead>\n",
       "    <tr style=\"text-align: right;\">\n",
       "      <th></th>\n",
       "      <th>App</th>\n",
       "      <th>Category</th>\n",
       "      <th>Rating</th>\n",
       "      <th>Reviews</th>\n",
       "      <th>Size</th>\n",
       "      <th>Installs</th>\n",
       "      <th>Type</th>\n",
       "      <th>Price</th>\n",
       "      <th>Content Rating</th>\n",
       "      <th>Genres</th>\n",
       "      <th>Last Updated</th>\n",
       "      <th>Current Ver</th>\n",
       "      <th>Android Ver</th>\n",
       "    </tr>\n",
       "  </thead>\n",
       "  <tbody>\n",
       "    <tr>\n",
       "      <th>10836</th>\n",
       "      <td>Sya9a Maroc - FR</td>\n",
       "      <td>FAMILY</td>\n",
       "      <td>4.5</td>\n",
       "      <td>38</td>\n",
       "      <td>53M</td>\n",
       "      <td>5,000+</td>\n",
       "      <td>Free</td>\n",
       "      <td>0</td>\n",
       "      <td>Everyone</td>\n",
       "      <td>Education</td>\n",
       "      <td>July 25, 2017</td>\n",
       "      <td>1.48</td>\n",
       "      <td>4.1 and up</td>\n",
       "    </tr>\n",
       "    <tr>\n",
       "      <th>10837</th>\n",
       "      <td>Fr. Mike Schmitz Audio Teachings</td>\n",
       "      <td>FAMILY</td>\n",
       "      <td>5.0</td>\n",
       "      <td>4</td>\n",
       "      <td>3.6M</td>\n",
       "      <td>100+</td>\n",
       "      <td>Free</td>\n",
       "      <td>0</td>\n",
       "      <td>Everyone</td>\n",
       "      <td>Education</td>\n",
       "      <td>July 6, 2018</td>\n",
       "      <td>1.0</td>\n",
       "      <td>4.1 and up</td>\n",
       "    </tr>\n",
       "    <tr>\n",
       "      <th>10838</th>\n",
       "      <td>Parkinson Exercices FR</td>\n",
       "      <td>MEDICAL</td>\n",
       "      <td>NaN</td>\n",
       "      <td>3</td>\n",
       "      <td>9.5M</td>\n",
       "      <td>1,000+</td>\n",
       "      <td>Free</td>\n",
       "      <td>0</td>\n",
       "      <td>Everyone</td>\n",
       "      <td>Medical</td>\n",
       "      <td>January 20, 2017</td>\n",
       "      <td>1.0</td>\n",
       "      <td>2.2 and up</td>\n",
       "    </tr>\n",
       "    <tr>\n",
       "      <th>10839</th>\n",
       "      <td>The SCP Foundation DB fr nn5n</td>\n",
       "      <td>BOOKS_AND_REFERENCE</td>\n",
       "      <td>4.5</td>\n",
       "      <td>114</td>\n",
       "      <td>Varies with device</td>\n",
       "      <td>1,000+</td>\n",
       "      <td>Free</td>\n",
       "      <td>0</td>\n",
       "      <td>Mature 17+</td>\n",
       "      <td>Books &amp; Reference</td>\n",
       "      <td>January 19, 2015</td>\n",
       "      <td>Varies with device</td>\n",
       "      <td>Varies with device</td>\n",
       "    </tr>\n",
       "    <tr>\n",
       "      <th>10840</th>\n",
       "      <td>iHoroscope - 2018 Daily Horoscope &amp; Astrology</td>\n",
       "      <td>LIFESTYLE</td>\n",
       "      <td>4.5</td>\n",
       "      <td>398307</td>\n",
       "      <td>19M</td>\n",
       "      <td>10,000,000+</td>\n",
       "      <td>Free</td>\n",
       "      <td>0</td>\n",
       "      <td>Everyone</td>\n",
       "      <td>Lifestyle</td>\n",
       "      <td>July 25, 2018</td>\n",
       "      <td>Varies with device</td>\n",
       "      <td>Varies with device</td>\n",
       "    </tr>\n",
       "  </tbody>\n",
       "</table>\n",
       "</div>"
      ],
      "text/plain": [
       "                                                 App             Category  \\\n",
       "10836                               Sya9a Maroc - FR               FAMILY   \n",
       "10837               Fr. Mike Schmitz Audio Teachings               FAMILY   \n",
       "10838                         Parkinson Exercices FR              MEDICAL   \n",
       "10839                  The SCP Foundation DB fr nn5n  BOOKS_AND_REFERENCE   \n",
       "10840  iHoroscope - 2018 Daily Horoscope & Astrology            LIFESTYLE   \n",
       "\n",
       "       Rating Reviews                Size     Installs  Type Price  \\\n",
       "10836     4.5      38                 53M       5,000+  Free     0   \n",
       "10837     5.0       4                3.6M         100+  Free     0   \n",
       "10838     NaN       3                9.5M       1,000+  Free     0   \n",
       "10839     4.5     114  Varies with device       1,000+  Free     0   \n",
       "10840     4.5  398307                 19M  10,000,000+  Free     0   \n",
       "\n",
       "      Content Rating             Genres      Last Updated         Current Ver  \\\n",
       "10836       Everyone          Education     July 25, 2017                1.48   \n",
       "10837       Everyone          Education      July 6, 2018                 1.0   \n",
       "10838       Everyone            Medical  January 20, 2017                 1.0   \n",
       "10839     Mature 17+  Books & Reference  January 19, 2015  Varies with device   \n",
       "10840       Everyone          Lifestyle     July 25, 2018  Varies with device   \n",
       "\n",
       "              Android Ver  \n",
       "10836          4.1 and up  \n",
       "10837          4.1 and up  \n",
       "10838          2.2 and up  \n",
       "10839  Varies with device  \n",
       "10840  Varies with device  "
      ]
     },
     "execution_count": 2,
     "metadata": {},
     "output_type": "execute_result"
    }
   ],
   "source": [
    "data = pd.read_csv('googleplaystore.csv')\n",
    "data.tail()"
   ]
  },
  {
   "cell_type": "markdown",
   "metadata": {},
   "source": [
    "data[\"Content Rating\"].unique()"
   ]
  },
  {
   "cell_type": "code",
   "execution_count": 15,
   "metadata": {},
   "outputs": [
    {
     "name": "stdout",
     "output_type": "stream",
     "text": [
      "                Category Content Rating\n",
      "129               BEAUTY     Mature 17+\n",
      "133               BEAUTY     Mature 17+\n",
      "134               BEAUTY     Mature 17+\n",
      "166  BOOKS_AND_REFERENCE     Mature 17+\n",
      "170  BOOKS_AND_REFERENCE     Mature 17+\n",
      "                     Content Rating\n",
      "Category                           \n",
      "BEAUTY                            3\n",
      "BOOKS_AND_REFERENCE               3\n",
      "BUSINESS                          1\n",
      "COMICS                            7\n",
      "COMMUNICATION                    10\n",
      "DATING                          201\n",
      "EDUCATION                         3\n",
      "ENTERTAINMENT                     9\n",
      "FAMILY                           50\n",
      "GAME                             74\n",
      "HEALTH_AND_FITNESS                7\n",
      "LIFESTYLE                         9\n",
      "MAPS_AND_NAVIGATION               1\n",
      "MEDICAL                           7\n",
      "NEWS_AND_MAGAZINES               14\n",
      "PARENTING                         1\n",
      "PERSONALIZATION                   9\n",
      "PHOTOGRAPHY                       5\n",
      "PRODUCTIVITY                      1\n",
      "SHOPPING                          3\n",
      "SOCIAL                           67\n",
      "SPORTS                            7\n",
      "TOOLS                             2\n",
      "TRAVEL_AND_LOCAL                  1\n",
      "VIDEO_PLAYERS                     3\n",
      "WEATHER                           1\n",
      "                     Content Rating             Category\n",
      "Category                                                \n",
      "DATING                          201               DATING\n",
      "GAME                             74                 GAME\n",
      "SOCIAL                           67               SOCIAL\n",
      "FAMILY                           50               FAMILY\n",
      "NEWS_AND_MAGAZINES               14   NEWS_AND_MAGAZINES\n",
      "COMMUNICATION                    10        COMMUNICATION\n",
      "PERSONALIZATION                   9      PERSONALIZATION\n",
      "ENTERTAINMENT                     9        ENTERTAINMENT\n",
      "LIFESTYLE                         9            LIFESTYLE\n",
      "MEDICAL                           7              MEDICAL\n",
      "COMICS                            7               COMICS\n",
      "SPORTS                            7               SPORTS\n",
      "HEALTH_AND_FITNESS                7   HEALTH_AND_FITNESS\n",
      "PHOTOGRAPHY                       5          PHOTOGRAPHY\n",
      "VIDEO_PLAYERS                     3        VIDEO_PLAYERS\n",
      "SHOPPING                          3             SHOPPING\n",
      "BEAUTY                            3               BEAUTY\n",
      "BOOKS_AND_REFERENCE               3  BOOKS_AND_REFERENCE\n",
      "EDUCATION                         3            EDUCATION\n",
      "TOOLS                             2                TOOLS\n",
      "PARENTING                         1            PARENTING\n",
      "PRODUCTIVITY                      1         PRODUCTIVITY\n",
      "MAPS_AND_NAVIGATION               1  MAPS_AND_NAVIGATION\n",
      "TRAVEL_AND_LOCAL                  1     TRAVEL_AND_LOCAL\n",
      "BUSINESS                          1             BUSINESS\n",
      "WEATHER                           1              WEATHER\n"
     ]
    }
   ],
   "source": [
    "mature = data[data[\"Content Rating\"] == 'Mature 17+']\n",
    "mature = mature.drop(['App', 'Rating', 'Reviews', 'Size', 'Installs', 'Type', 'Price','Genres', 'Last Updated',\n",
    "            'Current Ver', 'Android Ver'], axis=1)\n",
    "count = mature.groupby('Category').count()\n",
    "countOrd = count.sort_values('Content Rating', ascending=False)\n",
    "countOrd['Category'] = countOrd.index\n",
    "print(mature.head())\n",
    "print(count)\n",
    "print(countOrd)"
   ]
  },
  {
   "cell_type": "markdown",
   "metadata": {},
   "source": [
    "### Check unique Categories"
   ]
  },
  {
   "cell_type": "markdown",
   "metadata": {},
   "source": [
    "### Make bar chart of Mature ratings by category"
   ]
  },
  {
   "cell_type": "code",
   "execution_count": 17,
   "metadata": {},
   "outputs": [
    {
     "data": {
      "image/png": "[encoded data removed]",
      "text/plain": [
       "<Figure size 432x288 with 1 Axes>"
      ]
     },
     "metadata": {
      "needs_background": "light"
     },
     "output_type": "display_data"
    }
   ],
   "source": [
    "x = range(len(countOrd[\"Category\"].unique()))\n",
    "\n",
    "plt.bar(x , countOrd[\"Content Rating\"])\n",
    "plt.xticks(x, countOrd['Category'].unique(),  rotation='vertical')\n",
    "plt.show()"
   ]
  }
 ],
 "metadata": {
  "kernelspec": {
   "display_name": "Python 3",
   "language": "python",
   "name": "python3"
  },
  "language_info": {
   "codemirror_mode": {
    "name": "ipython",
    "version": 3
   },
   "file_extension": ".py",
   "mimetype": "text/x-python",
   "name": "python",
   "nbconvert_exporter": "python",
   "pygments_lexer": "ipython3",
   "version": "3.7.6"
  }
 },
 "nbformat": 4,
 "nbformat_minor": 4
}
